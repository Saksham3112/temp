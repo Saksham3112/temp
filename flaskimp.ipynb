{
 "cells": [
  {
   "cell_type": "code",
   "execution_count": 1,
   "metadata": {},
   "outputs": [
    {
     "name": "stdout",
     "output_type": "stream",
     "text": [
      "Defaulting to user installation because normal site-packages is not writeable\n",
      "Requirement already satisfied: flask in c:\\users\\dell\\appdata\\roaming\\python\\python310\\site-packages (2.0.3)\n",
      "Requirement already satisfied: Jinja2>=3.0 in c:\\users\\dell\\appdata\\roaming\\python\\python310\\site-packages (from flask) (3.0.3)\n",
      "Requirement already satisfied: click>=7.1.2 in c:\\users\\dell\\appdata\\roaming\\python\\python310\\site-packages (from flask) (8.0.3)\n",
      "Requirement already satisfied: itsdangerous>=2.0 in c:\\users\\dell\\appdata\\roaming\\python\\python310\\site-packages (from flask) (2.0.1)\n",
      "Requirement already satisfied: Werkzeug>=2.0 in c:\\users\\dell\\appdata\\roaming\\python\\python310\\site-packages (from flask) (2.0.2)\n",
      "Requirement already satisfied: colorama in c:\\users\\dell\\appdata\\roaming\\python\\python310\\site-packages (from click>=7.1.2->flask) (0.4.4)\n",
      "Requirement already satisfied: MarkupSafe>=2.0 in c:\\users\\dell\\appdata\\roaming\\python\\python310\\site-packages (from Jinja2>=3.0->flask) (2.0.1)\n"
     ]
    }
   ],
   "source": [
    "! pip3 install flask "
   ]
  },
  {
   "cell_type": "code",
   "execution_count": null,
   "metadata": {},
   "outputs": [],
   "source": []
  }
 ],
 "metadata": {
  "interpreter": {
   "hash": "26de051ba29f2982a8de78e945f0abaf191376122a1563185a90213a26c5da77"
  },
  "kernelspec": {
   "display_name": "Python 3.10.1 64-bit",
   "language": "python",
   "name": "python3"
  },
  "language_info": {
   "codemirror_mode": {
    "name": "ipython",
    "version": 3
   },
   "file_extension": ".py",
   "mimetype": "text/x-python",
   "name": "python",
   "nbconvert_exporter": "python",
   "pygments_lexer": "ipython3",
   "version": "3.10.1"
  },
  "orig_nbformat": 4
 },
 "nbformat": 4,
 "nbformat_minor": 2
}
